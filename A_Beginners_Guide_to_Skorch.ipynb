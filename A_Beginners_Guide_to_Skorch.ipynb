{
 "cells": [
  {
   "cell_type": "markdown",
   "metadata": {},
   "source": [
    "# A Beginners Guide to Skorch – With Code To Implement Neural Network\n",
    "\n",
    "### By Prudhvi Varma\n",
    "\n",
    "https://analyticsindiamag.com/a-beginners-guide-to-skorch-with-code-to-implement-neural-network/?utm_source=morioh.com&utm_medium=rss&utm_campaign=a-beginners-guide-to-skorch-with-code-to-implement-neural-network&ref=morioh.com"
   ]
  },
  {
   "cell_type": "markdown",
   "metadata": {},
   "source": [
    "Skorch is one of the useful libraries in Pytorch to work on machine learning models especially neural networks. It is a robust library that works in the combination of PyTorch and Scikit-learn. Previously we used the scikit-learn library but its applications are only limited to classical machine learning models while skorch is a compatible library for developing the neural networks."
   ]
  },
  {
   "cell_type": "markdown",
   "metadata": {},
   "source": [
    "## What is SKORCH?\n",
    "\n",
    "Skorch enables programmers to implement code using the customizability __scikit-learn__ and power of __PyTorch__. \n",
    "\n",
    "Just call `model.fit()` and you don’t have to worry about writing your own **callback functions**, skorch handles everything for you. \n",
    "Skorch is an inbuilt library in PyTorch used for Neural networks.\n",
    "\n",
    "In building deep neural networks, we are required to train our model, evaluate, dividing the train & validation data, and many other operations required to build a model. Here skorch library will reduce the effort of the programmer similar to scikit learn library in machine learning. Skorch also provides many features like __learning rate schedulers__, __early stopping__, __checkpointing__, __parameter freezing__ and __unfreezing__, etc."
   ]
  },
  {
   "cell_type": "markdown",
   "metadata": {},
   "source": [
    "## What are callback functions\n",
    "\n",
    "A __callback function__ is passed into another function as an argument and then it is invoked into the outer function and it is used to perform routine actions."
   ]
  },
  {
   "cell_type": "markdown",
   "metadata": {},
   "source": [
    "## Basic Functions we use in Skorch "
   ]
  },
  {
   "cell_type": "code",
   "execution_count": 17,
   "metadata": {},
   "outputs": [],
   "source": [
    "import skorch"
   ]
  },
  {
   "cell_type": "code",
   "execution_count": 18,
   "metadata": {},
   "outputs": [],
   "source": [
    "from skorch import NeuralNet\n",
    "from skorch.callbacks import EpochTimer\n",
    "from skorch.callbacks import PrintLog\n",
    "from skorch.callbacks import EpochScoring\n",
    "from skorch.callbacks import PassthroughScoring\n",
    "from skorch.dataset import CVSplit\n",
    "from skorch.utils import get_dim\n",
    "from skorch.utils import is_dataset\n",
    "from skorch.utils import to_numpy"
   ]
  },
  {
   "cell_type": "markdown",
   "metadata": {},
   "source": [
    "## Binary classification model using skorch learn\n",
    "\n",
    "Here we are importing the required libraries."
   ]
  },
  {
   "cell_type": "code",
   "execution_count": 19,
   "metadata": {},
   "outputs": [],
   "source": [
    "import skorch\n",
    "import numpy as np\n",
    "from sklearn.datasets import make_classification\n",
    "from torch import nn\n",
    "from skorch import NeuralNetClassifier"
   ]
  },
  {
   "cell_type": "code",
   "execution_count": 20,
   "metadata": {},
   "outputs": [],
   "source": [
    "X, y = make_classification(1000, 20, n_informative=10, random_state=0)\n",
    "X = X.astype(np.float32)\n",
    "y = y.astype(np.int64)"
   ]
  },
  {
   "cell_type": "code",
   "execution_count": 21,
   "metadata": {},
   "outputs": [
    {
     "name": "stdout",
     "output_type": "stream",
     "text": [
      "X looks like: \n",
      " [[-0.9658346  -2.1890705   0.16985609 ... -0.89645284  0.3759244\n",
      "  -1.0849651 ]\n",
      " [-0.454767    4.339768   -0.48572844 ...  2.9030426  -0.9739298\n",
      "   2.1753323 ]\n",
      " [ 0.04121372 -2.457531   -0.27141634 ...  3.4025245   5.5681396\n",
      "   0.366057  ]\n",
      " ...\n",
      " [ 1.5076263  -2.0058584  -0.21547978 ...  3.68864    -0.65711164\n",
      "   1.3987011 ]\n",
      " [-1.5917367  -2.0708432  -1.9618258  ...  1.0849729   1.1306771\n",
      "   2.101646  ]\n",
      " [-1.4027424   4.459072    0.55552185 ...  2.5708554   0.5739863\n",
      "   2.4207122 ]]\n",
      "y looks like: \n",
      " [0 0 1 0 1 1 0 0 0 0 1 0 1 0 0 0 0 1 1 1 1 1 1 0 1 1 1 0 1 0 1 0 0 1 1 0 1\n",
      " 1 1 1 1 0 0 0 1 0 0 0 0 1 0 0 1 1 1 0 1 1 1 1 0 1 1 0 1 0 1 1 1 1 0 1 1 1\n",
      " 1 1 0 1 1 1 0 1 1 1 0 1 1 0 0 0 1 0 1 1 0 1 0 0 1 1 0 1 0 1 1 0 0 0 1 0 1\n",
      " 1 0 1 1 1 1 0 1 1 0 1 1 1 1 0 0 0 1 1 0 1 0 0 1 0 0 0 1 1 1 1 0 0 1 0 0 1\n",
      " 0 1 0 1 1 1 0 1 0 0 1 0 1 1 1 0 0 1 1 1 0 0 1 0 1 1 1 0 0 1 1 0 0 0 1 0 0\n",
      " 1 1 1 1 1 1 0 1 1 1 1 0 0 0 0 0 0 0 1 1 1 1 1 1 1 1 1 1 0 0 0 1 0 1 0 1 0\n",
      " 1 1 0 0 1 0 1 0 0 1 1 1 1 0 1 1 1 1 1 1 0 0 1 1 0 0 1 0 1 1 1 1 0 1 0 0 1\n",
      " 0 1 0 0 0 0 0 1 0 1 1 1 1 0 1 0 0 0 0 1 0 1 0 1 1 0 0 1 1 1 1 0 0 1 1 1 0\n",
      " 0 1 1 1 0 1 1 1 1 0 1 1 0 1 0 0 0 0 1 1 1 1 1 1 1 1 0 0 0 0 1 0 0 0 1 0 0\n",
      " 0 1 1 1 1 1 1 0 1 0 0 0 1 0 1 1 0 0 0 1 0 0 1 0 1 1 1 1 0 1 1 1 0 0 1 0 0\n",
      " 1 0 1 0 1 0 1 0 1 0 1 0 0 0 0 0 0 0 0 0 0 0 1 0 0 0 0 1 1 1 1 0 1 1 1 1 1\n",
      " 1 0 0 0 1 1 1 1 1 0 1 1 0 1 0 1 0 1 0 0 0 1 0 1 1 1 0 0 0 0 0 1 0 0 0 0 1\n",
      " 0 1 1 1 0 1 0 0 0 0 1 1 1 0 0 0 0 0 0 1 1 0 0 1 0 0 0 1 1 0 1 1 0 0 1 0 1\n",
      " 1 0 0 1 0 1 0 0 1 0 0 0 0 0 0 0 0 0 0 0 0 1 1 0 1 1 1 0 1 1 0 0 1 1 1 1 1\n",
      " 1 1 0 0 0 0 0 0 0 1 0 1 1 1 1 1 1 1 0 0 0 1 0 0 0 1 1 1 1 0 0 1 0 1 1 0 1\n",
      " 0 1 1 0 1 0 1 0 0 1 0 0 0 0 0 1 1 0 0 0 0 1 0 0 1 0 0 1 1 0 1 1 0 0 0 1 1\n",
      " 0 1 1 0 1 0 1 1 0 1 0 1 0 0 0 0 1 0 0 1 0 0 0 0 1 1 1 0 0 0 1 1 0 0 1 0 0\n",
      " 1 0 1 0 0 1 1 0 0 0 1 1 1 1 1 1 1 1 1 0 0 0 0 0 1 0 1 1 0 1 0 1 1 1 1 1 1\n",
      " 0 1 1 1 0 0 0 0 0 0 0 0 1 1 0 0 0 1 0 0 0 1 1 0 0 1 0 0 0 0 0 1 1 0 1 0 0\n",
      " 1 0 1 1 0 1 0 0 0 1 1 1 0 1 1 0 1 0 1 0 1 0 0 0 1 0 0 1 1 1 1 0 0 0 0 1 0\n",
      " 1 0 1 1 1 0 1 1 0 0 0 0 1 0 0 1 0 0 1 0 1 0 1 1 1 0 1 0 1 0 0 1 0 0 0 0 0\n",
      " 1 0 0 1 0 0 0 0 0 0 0 0 1 0 0 0 1 0 1 0 0 1 1 1 1 0 0 0 0 1 1 1 1 1 0 0 0\n",
      " 1 1 1 0 1 1 1 0 0 0 0 0 1 1 1 0 0 0 0 0 1 1 1 1 1 1 1 0 0 1 1 1 1 0 0 0 1\n",
      " 0 0 1 1 0 0 1 1 0 0 1 0 1 0 1 0 1 0 0 1 1 0 0 1 0 0 0 1 1 0 0 1 0 1 1 1 1\n",
      " 1 0 1 1 0 1 0 1 1 0 1 0 0 0 0 0 1 0 1 1 0 0 0 0 1 0 0 0 1 1 0 1 0 0 1 0 0\n",
      " 1 1 1 0 1 1 0 1 1 0 0 0 0 1 0 1 1 0 0 1 1 1 0 1 0 1 1 0 0 1 1 0 1 0 1 1 0\n",
      " 1 1 0 0 0 1 1 0 0 1 1 0 0 1 1 1 0 1 0 1 1 1 1 0 0 1 1 0 0 1 1 0 1 0 1 0 1\n",
      " 0]\n"
     ]
    }
   ],
   "source": [
    "print(f'X looks like: \\n {X}')\n",
    "print(f'y looks like: \\n {y}')"
   ]
  },
  {
   "cell_type": "code",
   "execution_count": 22,
   "metadata": {},
   "outputs": [],
   "source": [
    "class MyModule(nn.Module):\n",
    "    def __init__(self, num_units=10, nonlin=nn.ReLU()):\n",
    "        super(MyModule, self).__init__()\n",
    "        self.dense0 = nn.Linear(20, num_units)\n",
    "        self.nonlin = nonlin\n",
    "        self.dropout = nn.Dropout(0.5)\n",
    "        self.dense1 = nn.Linear(num_units, num_units)\n",
    "        self.output = nn.Linear(num_units, 2)\n",
    "        self.softmax = nn.Softmax(dim=-1)\n",
    "\n",
    "    def forward(self, X, **kwargs):\n",
    "        X = self.nonlin(self.dense0(X))\n",
    "        X = self.dropout(X)\n",
    "        X = self.nonlin(self.dense1(X))\n",
    "        X = self.softmax(self.output(X))\n",
    "        return X"
   ]
  },
  {
   "cell_type": "code",
   "execution_count": 23,
   "metadata": {},
   "outputs": [],
   "source": [
    "model = NeuralNetClassifier(\n",
    "    MyModule,\n",
    "    max_epochs=10,\n",
    "    lr=0.1,\n",
    "\n",
    "    # Shuffle training data on each epoch\n",
    "    iterator_train__shuffle=True,\n",
    ")"
   ]
  },
  {
   "cell_type": "code",
   "execution_count": 24,
   "metadata": {},
   "outputs": [
    {
     "name": "stdout",
     "output_type": "stream",
     "text": [
      "  epoch    train_loss    valid_acc    valid_loss     dur\n",
      "-------  ------------  -----------  ------------  ------\n",
      "      1        \u001b[36m0.6989\u001b[0m       \u001b[32m0.6400\u001b[0m        \u001b[35m0.6854\u001b[0m  0.0129\n",
      "      2        \u001b[36m0.6835\u001b[0m       \u001b[32m0.6450\u001b[0m        \u001b[35m0.6831\u001b[0m  0.0146\n",
      "      3        \u001b[36m0.6705\u001b[0m       \u001b[32m0.6500\u001b[0m        \u001b[35m0.6809\u001b[0m  0.0151\n",
      "      4        \u001b[36m0.6701\u001b[0m       0.6400        \u001b[35m0.6788\u001b[0m  0.0187\n",
      "      5        \u001b[36m0.6632\u001b[0m       \u001b[32m0.6900\u001b[0m        \u001b[35m0.6715\u001b[0m  0.0176\n",
      "      6        0.6647       \u001b[32m0.7050\u001b[0m        \u001b[35m0.6671\u001b[0m  0.0166\n",
      "      7        \u001b[36m0.6563\u001b[0m       0.6900        \u001b[35m0.6632\u001b[0m  0.0180\n",
      "      8        \u001b[36m0.6425\u001b[0m       0.6950        \u001b[35m0.6591\u001b[0m  0.0164\n",
      "      9        \u001b[36m0.6306\u001b[0m       0.6750        0.6607  0.0162\n",
      "     10        \u001b[36m0.6205\u001b[0m       0.7000        \u001b[35m0.6521\u001b[0m  0.0162\n"
     ]
    }
   ],
   "source": [
    "model.fit(X, y)\n",
    "\n",
    "y_proba = model.predict_proba(X)"
   ]
  }
 ],
 "metadata": {
  "kernelspec": {
   "display_name": "Python 3.8.13 ('teaching')",
   "language": "python",
   "name": "python3"
  },
  "language_info": {
   "codemirror_mode": {
    "name": "ipython",
    "version": 3
   },
   "file_extension": ".py",
   "mimetype": "text/x-python",
   "name": "python",
   "nbconvert_exporter": "python",
   "pygments_lexer": "ipython3",
   "version": "3.8.13"
  },
  "orig_nbformat": 4,
  "vscode": {
   "interpreter": {
    "hash": "2142a618935ee31125fbb97f06401dd4f60968dd5a549a21d575788564038767"
   }
  }
 },
 "nbformat": 4,
 "nbformat_minor": 2
}
